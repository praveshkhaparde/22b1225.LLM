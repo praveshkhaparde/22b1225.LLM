{
 "cells": [
  {
   "cell_type": "code",
   "execution_count": 1,
   "metadata": {},
   "outputs": [],
   "source": [
    "paragraph = \"Dreams transform into thoughts and thoughts result in action. To succeed in your mission, you must have single-minded devotion to your goal. Small aim is a crime; have great aim. Don't fear failure; failure is the stepping stone to success. The ignited mind of the youth is the most powerful resource on the earth. You have to dream before your dreams can come true. Excellence is a continuous process and not an accident. Don't take rest after your first victory because if you fail in second, more lips are waiting to say that your first victory was just luck. Let us sacrifice our today so that our children can have a better tomorrow. If you want to shine like a sun, first burn like a sun. We should not give up and we should not allow the problem to defeat us. Be active! Take on responsibility! Work for the things you believe in.\""
   ]
  },
  {
   "cell_type": "markdown",
   "metadata": {},
   "source": [
    "### TOKENIZATION\n"
   ]
  },
  {
   "cell_type": "code",
   "execution_count": 2,
   "metadata": {},
   "outputs": [
    {
     "data": {
      "text/plain": [
       "['Dreams transform into thoughts and thoughts result in action.',\n",
       " 'To succeed in your mission, you must have single-minded devotion to your goal.',\n",
       " 'Small aim is a crime; have great aim.',\n",
       " \"Don't fear failure; failure is the stepping stone to success.\",\n",
       " 'The ignited mind of the youth is the most powerful resource on the earth.',\n",
       " 'You have to dream before your dreams can come true.',\n",
       " 'Excellence is a continuous process and not an accident.',\n",
       " \"Don't take rest after your first victory because if you fail in second, more lips are waiting to say that your first victory was just luck.\",\n",
       " 'Let us sacrifice our today so that our children can have a better tomorrow.',\n",
       " 'If you want to shine like a sun, first burn like a sun.',\n",
       " 'We should not give up and we should not allow the problem to defeat us.',\n",
       " 'Be active!',\n",
       " 'Take on responsibility!',\n",
       " 'Work for the things you believe in.']"
      ]
     },
     "execution_count": 2,
     "metadata": {},
     "output_type": "execute_result"
    }
   ],
   "source": [
    "import nltk\n",
    "from nltk.stem import SnowballStemmer\n",
    "from nltk.corpus import stopwords\n",
    "from nltk.tokenize import sent_tokenize\n",
    "\n",
    "documents = nltk.sent_tokenize(paragraph)\n",
    "\n",
    "documents"
   ]
  },
  {
   "cell_type": "code",
   "execution_count": 3,
   "metadata": {},
   "outputs": [
    {
     "name": "stdout",
     "output_type": "stream",
     "text": [
      "[('Dreams', 'NNP'), ('transform', 'NN'), ('thoughts', 'NNS'), ('thoughts', 'NNS'), ('result', 'VBP'), ('action', 'NN'), ('.', '.')]\n",
      "[('To', 'TO'), ('succeed', 'VB'), ('mission', 'NN'), (',', ','), ('must', 'MD'), ('single-minded', 'JJ'), ('devotion', 'NN'), ('goal', 'NN'), ('.', '.')]\n",
      "[('Small', 'JJ'), ('aim', 'NN'), ('crime', 'NN'), (';', ':'), ('great', 'JJ'), ('aim', 'NN'), ('.', '.')]\n",
      "[('Do', 'VBP'), (\"n't\", 'RB'), ('fear', 'VB'), ('failure', 'NN'), (';', ':'), ('failure', 'NN'), ('stepping', 'VBG'), ('stone', 'NN'), ('success', 'NN'), ('.', '.')]\n",
      "[('The', 'DT'), ('ignited', 'JJ'), ('mind', 'NN'), ('youth', 'NN'), ('powerful', 'JJ'), ('resource', 'NN'), ('earth', 'NN'), ('.', '.')]\n",
      "[('You', 'PRP'), ('dream', 'VBP'), ('dreams', 'JJ'), ('come', 'VBP'), ('true', 'JJ'), ('.', '.')]\n",
      "[('Excellence', 'NNP'), ('continuous', 'JJ'), ('process', 'NN'), ('accident', 'NN'), ('.', '.')]\n",
      "[('Do', 'VBP'), (\"n't\", 'RB'), ('take', 'VB'), ('rest', 'NN'), ('first', 'RB'), ('victory', 'JJ'), ('fail', 'JJ'), ('second', 'NN'), (',', ','), ('lips', 'VBZ'), ('waiting', 'VBG'), ('say', 'VB'), ('first', 'JJ'), ('victory', 'JJ'), ('luck', 'NN'), ('.', '.')]\n",
      "[('Let', 'VB'), ('us', 'PRP'), ('sacrifice', 'VB'), ('today', 'NN'), ('children', 'NNS'), ('better', 'RBR'), ('tomorrow', 'NN'), ('.', '.')]\n",
      "[('If', 'IN'), ('want', 'JJ'), ('shine', 'NN'), ('like', 'IN'), ('sun', 'NN'), (',', ','), ('first', 'RB'), ('burn', 'VBP'), ('like', 'IN'), ('sun', 'NN'), ('.', '.')]\n",
      "[('We', 'PRP'), ('give', 'VBP'), ('allow', 'JJ'), ('problem', 'NN'), ('defeat', 'NN'), ('us', 'PRP'), ('.', '.')]\n",
      "[('Be', 'NNP'), ('active', 'JJ'), ('!', '.')]\n",
      "[('Take', 'VB'), ('responsibility', 'NN'), ('!', '.')]\n",
      "[('Work', 'NNP'), ('things', 'NNS'), ('believe', 'VBP'), ('.', '.')]\n"
     ]
    }
   ],
   "source": [
    "for i in range(len(documents)):\n",
    "    words = nltk.word_tokenize(documents[i])\n",
    "    words = [word for word in words if word not in set(\n",
    "        stopwords.words('english'))]\n",
    "    postag = nltk.pos_tag(words)\n",
    "    print(postag)\n",
    "\n",
    "# documents"
   ]
  }
 ],
 "metadata": {
  "kernelspec": {
   "display_name": "myenv",
   "language": "python",
   "name": "python3"
  },
  "language_info": {
   "codemirror_mode": {
    "name": "ipython",
    "version": 3
   },
   "file_extension": ".py",
   "mimetype": "text/x-python",
   "name": "python",
   "nbconvert_exporter": "python",
   "pygments_lexer": "ipython3",
   "version": "3.8.19"
  }
 },
 "nbformat": 4,
 "nbformat_minor": 2
}
