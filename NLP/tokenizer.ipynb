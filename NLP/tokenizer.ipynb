{
 "cells": [
  {
   "cell_type": "code",
   "execution_count": 5,
   "metadata": {},
   "outputs": [
    {
     "name": "stdout",
     "output_type": "stream",
     "text": [
      "Hey there my name is pravesh. \n",
      "i'm very excited to learn NLM! hope i learn i lot form you.\n"
     ]
    }
   ],
   "source": [
    "corpus = '''Hey there my name is pravesh. \n",
    "i'm very excited to learn NLM! hope i learn i lot form you.'''\n",
    "\n",
    "print(corpus)"
   ]
  },
  {
   "cell_type": "code",
   "execution_count": 6,
   "metadata": {},
   "outputs": [
    {
     "name": "stdout",
     "output_type": "stream",
     "text": [
      "Hey there my name is pravesh.\n",
      "i'm very excited to learn NLM!\n",
      "hope i learn i lot form you.\n"
     ]
    }
   ],
   "source": [
    "from nltk.tokenize import sent_tokenize\n",
    "\n",
    "# Tokenize the corpus into sentences\n",
    "documents = sent_tokenize(corpus)\n",
    "\n",
    "for sentence in documents:\n",
    "    print(sentence)"
   ]
  },
  {
   "cell_type": "code",
   "execution_count": 7,
   "metadata": {},
   "outputs": [
    {
     "name": "stdout",
     "output_type": "stream",
     "text": [
      "<class 'list'>\n"
     ]
    }
   ],
   "source": [
    "print(type(documents))"
   ]
  },
  {
   "cell_type": "code",
   "execution_count": 8,
   "metadata": {},
   "outputs": [
    {
     "name": "stdout",
     "output_type": "stream",
     "text": [
      "['Hey', 'there', 'my', 'name', 'is', 'pravesh', '.']\n",
      "['i', \"'m\", 'very', 'excited', 'to', 'learn', 'NLM', '!']\n",
      "['hope', 'i', 'learn', 'i', 'lot', 'form', 'you', '.']\n"
     ]
    }
   ],
   "source": [
    "from nltk.tokenize import word_tokenize\n",
    "word_tokenize(corpus)\n",
    "\n",
    "for sentence in documents:\n",
    "    print(word_tokenize(sentence))"
   ]
  },
  {
   "cell_type": "code",
   "execution_count": 9,
   "metadata": {},
   "outputs": [
    {
     "data": {
      "text/plain": [
       "['Hey',\n",
       " 'there',\n",
       " 'my',\n",
       " 'name',\n",
       " 'is',\n",
       " 'pravesh',\n",
       " '.',\n",
       " 'i',\n",
       " \"'\",\n",
       " 'm',\n",
       " 'very',\n",
       " 'excited',\n",
       " 'to',\n",
       " 'learn',\n",
       " 'NLM',\n",
       " '!',\n",
       " 'hope',\n",
       " 'i',\n",
       " 'learn',\n",
       " 'i',\n",
       " 'lot',\n",
       " 'form',\n",
       " 'you',\n",
       " '.']"
      ]
     },
     "execution_count": 9,
     "metadata": {},
     "output_type": "execute_result"
    }
   ],
   "source": [
    "from nltk.tokenize import wordpunct_tokenize\n",
    "# split punctuation too like i'm to i ' m\n",
    "wordpunct_tokenize(corpus)"
   ]
  }
 ],
 "metadata": {
  "kernelspec": {
   "display_name": "myenv",
   "language": "python",
   "name": "python3"
  },
  "language_info": {
   "codemirror_mode": {
    "name": "ipython",
    "version": 3
   },
   "file_extension": ".py",
   "mimetype": "text/x-python",
   "name": "python",
   "nbconvert_exporter": "python",
   "pygments_lexer": "ipython3",
   "version": "3.8.19"
  }
 },
 "nbformat": 4,
 "nbformat_minor": 2
}
